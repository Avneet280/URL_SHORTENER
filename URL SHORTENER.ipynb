import pyperclip
import pyshorteners
from tkinter import *

root=Tk()
root.geometry("600x450")
root.title("URL SHORTENER")
Label(root, text="This will help you to shorten your url, and make your life easy.").pack(pady=15)
root.config(bg="#BDB76B")
url=StringVar()
url_address=StringVar()

def urlshortener():
    urladdress=url.get()
    url_Short=pyshorteners.Shortener().tinyurl.short(urladdress)
    url_address.set(url_Short)

def copyurl():
    url_short=url_address.get()
    pyperclip.copy(url_short)

l=Label(root,text="MY URL SHORTENER",font=("Arial Bold",20)).pack(pady=30)
Entry(root,width=25,textvariable=url,font=("poppins",14),border=4).pack(pady=15)
B1=Button(root,text="GENERATE SHORT URL",width=22,bg="#F5F5DC",font=("Arial",14),border=4,command=urlshortener).pack(pady=10)
Entry(root,width=25,textvariable=url_address,border=4,font=("poppins",14),).pack(pady=15)
B2=Button(root,text="COPY URL",width=22,bg="#F5F5DC",font=("Arial",14),border=4,command=copyurl).pack(pady=5)

root.mainloop()
